{
 "cells": [
  {
   "cell_type": "code",
   "execution_count": 1,
   "id": "857cbf20-7d13-4d99-afa7-af226a241d01",
   "metadata": {},
   "outputs": [],
   "source": [
    "#To Save the File - Deployment \n",
    "import pickle\n",
    "filename='Insurance_Prediction_Multiple_Linear_sav'"
   ]
  },
  {
   "cell_type": "code",
   "execution_count": 3,
   "id": "248179ac-d6ac-4f6d-abd9-6d3b46b3751c",
   "metadata": {},
   "outputs": [],
   "source": [
    "#To Load the final model and To find the result\n",
    "loaded_model=pickle.load(open(\"Insurance_Prediction_SVM_sav\",'rb'))\n",
    "result=loaded_model.predict([[15,22,33,0,1]]) "
   ]
  },
  {
   "cell_type": "code",
   "execution_count": 5,
   "id": "8681b7b6-42f0-4705-a357-98967380037a",
   "metadata": {},
   "outputs": [
    {
     "data": {
      "text/plain": [
       "array([16589.18908113])"
      ]
     },
     "execution_count": 5,
     "metadata": {},
     "output_type": "execute_result"
    }
   ],
   "source": [
    "result"
   ]
  },
  {
   "cell_type": "code",
   "execution_count": null,
   "id": "3911c0ad-764c-40b0-839d-b8ae7429f4e6",
   "metadata": {},
   "outputs": [],
   "source": []
  }
 ],
 "metadata": {
  "kernelspec": {
   "display_name": "Python [conda env:base] *",
   "language": "python",
   "name": "conda-base-py"
  },
  "language_info": {
   "codemirror_mode": {
    "name": "ipython",
    "version": 3
   },
   "file_extension": ".py",
   "mimetype": "text/x-python",
   "name": "python",
   "nbconvert_exporter": "python",
   "pygments_lexer": "ipython3",
   "version": "3.12.7"
  }
 },
 "nbformat": 4,
 "nbformat_minor": 5
}
