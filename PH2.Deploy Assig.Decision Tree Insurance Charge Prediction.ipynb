{
 "cells": [
  {
   "cell_type": "code",
   "execution_count": 2,
   "id": "9f2fd5f3-59d4-4ea0-a69f-354de7dd2b62",
   "metadata": {},
   "outputs": [],
   "source": [
    "#To Save the File \n",
    "import pickle\n",
    "filename='Insurance_Prediction__Decision_Tree_sav'"
   ]
  },
  {
   "cell_type": "code",
   "execution_count": 4,
   "id": "927611ca-9aea-420d-a84c-2f0fd936bcdf",
   "metadata": {},
   "outputs": [],
   "source": [
    "#To Load the final model and To find the result\n",
    "loaded_model=pickle.load(open(\"Insurance_Prediction__Decision_Tree_sav\",'rb'))\n",
    "result=loaded_model.predict([[15,22,33,0,1]]) "
   ]
  },
  {
   "cell_type": "code",
   "execution_count": 6,
   "id": "3c893527-ca33-4952-95ca-90d79dfbbfa2",
   "metadata": {},
   "outputs": [
    {
     "data": {
      "text/plain": [
       "array([63770.42801])"
      ]
     },
     "execution_count": 6,
     "metadata": {},
     "output_type": "execute_result"
    }
   ],
   "source": [
    "result"
   ]
  },
  {
   "cell_type": "code",
   "execution_count": null,
   "id": "fa236f3f-e938-4cce-a68f-f7caa8c2b689",
   "metadata": {},
   "outputs": [],
   "source": []
  }
 ],
 "metadata": {
  "kernelspec": {
   "display_name": "Python [conda env:base] *",
   "language": "python",
   "name": "conda-base-py"
  },
  "language_info": {
   "codemirror_mode": {
    "name": "ipython",
    "version": 3
   },
   "file_extension": ".py",
   "mimetype": "text/x-python",
   "name": "python",
   "nbconvert_exporter": "python",
   "pygments_lexer": "ipython3",
   "version": "3.12.7"
  }
 },
 "nbformat": 4,
 "nbformat_minor": 5
}
