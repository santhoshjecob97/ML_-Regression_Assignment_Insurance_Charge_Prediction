{
 "cells": [
  {
   "cell_type": "code",
   "execution_count": 1,
   "id": "c08b7825-3675-4e30-92c7-553fe5df6697",
   "metadata": {},
   "outputs": [],
   "source": [
    "#To Save the File \n",
    "import pickle\n",
    "filename='Insurance_Prediction_Multiple_Linear_sav'"
   ]
  },
  {
   "cell_type": "code",
   "execution_count": 3,
   "id": "2cb9261a-c7a0-4095-9c08-550d25fed146",
   "metadata": {},
   "outputs": [
    {
     "name": "stderr",
     "output_type": "stream",
     "text": [
      "C:\\Anaconda3\\Lib\\site-packages\\sklearn\\base.py:493: UserWarning: X does not have valid feature names, but LinearRegression was fitted with feature names\n",
      "  warnings.warn(\n"
     ]
    }
   ],
   "source": [
    "#To Load the final model and To find the result\n",
    "loaded_model=pickle.load(open(\"Insurance_Prediction_Multiple_Linear_sav\",'rb'))\n",
    "result=loaded_model.predict([[15,22,33,0,1]]) "
   ]
  },
  {
   "cell_type": "code",
   "execution_count": 5,
   "id": "1ef859e0-2fa9-4a6b-be9c-2f4a7b32df9c",
   "metadata": {},
   "outputs": [
    {
     "data": {
      "text/plain": [
       "array([[37787.9307665]])"
      ]
     },
     "execution_count": 5,
     "metadata": {},
     "output_type": "execute_result"
    }
   ],
   "source": [
    "result"
   ]
  },
  {
   "cell_type": "code",
   "execution_count": null,
   "id": "ff55456c-a9a0-4e7e-b34f-b28495466425",
   "metadata": {},
   "outputs": [],
   "source": []
  }
 ],
 "metadata": {
  "kernelspec": {
   "display_name": "Python [conda env:base] *",
   "language": "python",
   "name": "conda-base-py"
  },
  "language_info": {
   "codemirror_mode": {
    "name": "ipython",
    "version": 3
   },
   "file_extension": ".py",
   "mimetype": "text/x-python",
   "name": "python",
   "nbconvert_exporter": "python",
   "pygments_lexer": "ipython3",
   "version": "3.12.7"
  }
 },
 "nbformat": 4,
 "nbformat_minor": 5
}
