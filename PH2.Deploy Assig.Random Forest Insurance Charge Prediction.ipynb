{
 "cells": [
  {
   "cell_type": "code",
   "execution_count": 1,
   "id": "c0762ec3-fd3a-4880-8e29-31538f2dfd93",
   "metadata": {},
   "outputs": [],
   "source": [
    "#To Save the File \n",
    "import pickle\n",
    "filename='Insurance_Prediction_Random_Forest_sav'"
   ]
  },
  {
   "cell_type": "code",
   "execution_count": 3,
   "id": "66a9da79-5824-4431-baeb-4138939af078",
   "metadata": {},
   "outputs": [
    {
     "name": "stderr",
     "output_type": "stream",
     "text": [
      "C:\\Anaconda3\\Lib\\site-packages\\sklearn\\base.py:493: UserWarning: X does not have valid feature names, but RandomForestRegressor was fitted with feature names\n",
      "  warnings.warn(\n"
     ]
    }
   ],
   "source": [
    "#To Load the final model and To find the result\n",
    "loaded_model=pickle.load(open(\"Insurance_Prediction_Random_Forest_sav\",'rb'))\n",
    "result=loaded_model.predict([[15,22,33,0,1]]) "
   ]
  },
  {
   "cell_type": "code",
   "execution_count": 5,
   "id": "cd90dd0e-b92f-4005-b771-7046543ddeea",
   "metadata": {},
   "outputs": [
    {
     "data": {
      "text/plain": [
       "array([16052.2367526])"
      ]
     },
     "execution_count": 5,
     "metadata": {},
     "output_type": "execute_result"
    }
   ],
   "source": [
    "result"
   ]
  },
  {
   "cell_type": "code",
   "execution_count": null,
   "id": "bc9b0807-3827-498b-a2e0-daa72453662b",
   "metadata": {},
   "outputs": [],
   "source": []
  }
 ],
 "metadata": {
  "kernelspec": {
   "display_name": "Python [conda env:base] *",
   "language": "python",
   "name": "conda-base-py"
  },
  "language_info": {
   "codemirror_mode": {
    "name": "ipython",
    "version": 3
   },
   "file_extension": ".py",
   "mimetype": "text/x-python",
   "name": "python",
   "nbconvert_exporter": "python",
   "pygments_lexer": "ipython3",
   "version": "3.12.7"
  }
 },
 "nbformat": 4,
 "nbformat_minor": 5
}
